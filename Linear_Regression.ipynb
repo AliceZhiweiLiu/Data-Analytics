{
  "nbformat": 4,
  "nbformat_minor": 0,
  "metadata": {
    "colab": {
      "name": "Untitled0.ipynb",
      "provenance": [],
      "collapsed_sections": []
    },
    "kernelspec": {
      "name": "python3",
      "display_name": "Python 3"
    }
  },
  "cells": [
    {
      "cell_type": "code",
      "metadata": {
        "id": "_uPvOLNDvTfx"
      },
      "source": [
        "from sklearn import datasets, linear_model\n",
        "import numpy as np"
      ],
      "execution_count": null,
      "outputs": []
    },
    {
      "cell_type": "code",
      "metadata": {
        "id": "Z8JVOr1_fvVT",
        "colab": {
          "base_uri": "https://localhost:8080/"
        },
        "outputId": "e47cf6b9-ff9d-4422-ea92-7bac74e2737e"
      },
      "source": [
        "x_train = [[1,2,3,4],[1,4,5,6],[1,7,8,9],[1,13,25,2],[1,23,67,1]]\n",
        "y_train = [19,31,49,81,183]\n",
        "\n",
        "x_test = [[1,13,14,25]]\n",
        "\n",
        "lr_model = linear_model.LinearRegression()\n",
        "\n",
        "lr_model.fit(x_train, y_train)\n",
        "\n",
        "pred = lr_model.predict(x_test)\n",
        "print(pred)"
      ],
      "execution_count": null,
      "outputs": [
        {
          "output_type": "stream",
          "text": [
            "[105.]\n"
          ],
          "name": "stdout"
        }
      ]
    },
    {
      "cell_type": "code",
      "metadata": {
        "id": "fZGyQgYGgL9c"
      },
      "source": [
        "x_train = [[1,2,3,4],[1,4,5,6],[1,7,8,9],[1,13,25,2],[1,23,67,1]]\n",
        "y_train = [19,31,49,81,183]\n",
        "\n",
        "x_test = [[1,13,14,25]]\n",
        "\n",
        "x_train = np.asmatrix(x_train)\n",
        "y_train = np.asmatrix(y_train)\n",
        "print(x_train)\n",
        "print(y_train)\n",
        "\n",
        "def compute_A(x_train):\n",
        "  A = np.zeros((4,4))\n",
        "  for x_is in x_train:\n",
        "    A += np.matmul(x_is.T, x_is)\n",
        "    # print(x_is)\n",
        "    # print(A)\n",
        "  return A\n",
        "\n",
        "def compute_b(x_train, y_train):\n",
        "  b = np.matmul(x_train.T, y_train.T)\n",
        "  # print(b)\n",
        "  return b\n",
        "\n",
        "def compute_w(A,b,lamda=0.5):\n",
        "  I = np.identity(4)\n",
        "  A = np.add(lamda * I, A)\n",
        "  inverse = np.linalg.inv(A)\n",
        "  w = np.dot(np.asmatrix(inverse), b)\n",
        "  # print(w)\n",
        "  return w\n",
        "\n",
        "def predict(x,w):\n",
        "  val = np.dot(x,w)\n",
        "  print(val)\n",
        "\n",
        "A = compute_A(x_train)\n",
        "print(A)\n",
        "b = compute_b(x_train, y_train)\n",
        "print(b)\n",
        "w = compute_w(A,b)\n",
        "print(w)\n",
        "predict(x_test,w)\n"
      ],
      "execution_count": null,
      "outputs": []
    },
    {
      "cell_type": "code",
      "metadata": {
        "id": "m4Mju73OVSO0",
        "colab": {
          "base_uri": "https://localhost:8080/",
          "height": 1000
        },
        "outputId": "f1cffd30-39b2-49d3-9521-2cca6a36d7d7"
      },
      "source": [
        "import pandas as pd\n",
        "my_df = pd.read_csv(\"./insurance.csv\")\n",
        "print(my_df)\n",
        "def compute_A(x_train):\n",
        "  A = np.zeros((6,6))\n",
        "  for x_is in x_train:\n",
        "    A += np.matmul(x_is.T, x_is)\n",
        "    # print(x_is)\n",
        "    # print(A)\n",
        "  return A\n",
        "\n",
        "def compute_b(x_train, y_train):\n",
        "  print(x_train.shape)\n",
        "  print(y_train.shape)\n",
        "  b = np.matmul(x_train.T, y_train.T)\n",
        "  # print(b)\n",
        "  return b\n",
        "\n",
        "def compute_w(A,b,lamda=0.1):\n",
        "  I = np.identity(6)\n",
        "  A = np.add(lamda * I, A)\n",
        "  inverse = np.linalg.inv(A)\n",
        "  w = np.dot(np.asmatrix(inverse), b)\n",
        "  # print(w)\n",
        "  return w\n",
        "\n",
        "def predict(x,w):\n",
        "  val = np.dot(x,w)\n",
        "  # print(val)\n",
        "  return np.asarray(val)[0][0]\n",
        "my_df.sex = pd.Categorical(my_df.sex)\n",
        "my_df['sex'] = my_df.sex.cat.codes\n",
        "\n",
        "my_df.smoker = pd.Categorical(my_df.smoker)\n",
        "my_df['smoker'] = my_df.smoker.cat.codes\n",
        "\n",
        "my_df.region = pd.Categorical(my_df.region)\n",
        "my_df['region'] = my_df.region.cat.codes\n",
        "# print(my_df)\n",
        "\n",
        "my_df = my_df.loc[my_df['charges'] < 12000]\n",
        "\n",
        "data = my_df.to_numpy()\n",
        "test_data = data[-200:]\n",
        "data = data[:-200]\n",
        "# print(test_data)\n",
        "train_x = data[:,:-1]\n",
        "train_y = data[:,-1]\n",
        "\n",
        "test_x = test_data[:,:-1]\n",
        "test_y = test_data[:,-1]\n",
        "# print(train_x)\n",
        "# print(train_y)\n",
        "train_x = np.asmatrix(train_x)\n",
        "train_y = np.asmatrix(train_y)\n",
        "\n",
        "A = compute_A(train_x)\n",
        "b = compute_b(train_x, train_y)\n",
        "w = compute_w(A,b)\n",
        "\n",
        "preds = []\n",
        "for t in test_x:\n",
        "  preds.append(predict(t,w))\n",
        "print(\"lol\")\n",
        "print(preds)\n",
        "print(test_y)\n",
        "import matplotlib.pyplot as plt\n",
        "plt.scatter(preds, test_y)\n",
        "\n",
        "plt.plot([1,10000], [1,10000], color=\"red\")\n",
        "# axline((1, 2), (2, 2))\n",
        "# predict(x_test,w)\n",
        "# cat_columns = my_df.select_dtypes(['category']).columns\n",
        "# print(cat_columns)\n",
        "\n",
        "# num_cols = my_df._get_numeric_data().columns"
      ],
      "execution_count": null,
      "outputs": [
        {
          "output_type": "stream",
          "text": [
            "      age     sex     bmi  children smoker     region      charges\n",
            "0      19  female  27.900         0    yes  southwest  16884.92400\n",
            "1      18    male  33.770         1     no  southeast   1725.55230\n",
            "2      28    male  33.000         3     no  southeast   4449.46200\n",
            "3      33    male  22.705         0     no  northwest  21984.47061\n",
            "4      32    male  28.880         0     no  northwest   3866.85520\n",
            "...   ...     ...     ...       ...    ...        ...          ...\n",
            "1333   50    male  30.970         3     no  northwest  10600.54830\n",
            "1334   18  female  31.920         0     no  northeast   2205.98080\n",
            "1335   18  female  36.850         0     no  southeast   1629.83350\n",
            "1336   21  female  25.800         0     no  southwest   2007.94500\n",
            "1337   61  female  29.070         0    yes  northwest  29141.36030\n",
            "\n",
            "[1338 rows x 7 columns]\n",
            "(646, 6)\n",
            "(1, 646)\n",
            "lol\n",
            "[2018.0579630552265, 7961.6487522915195, 1997.2142125910414, 9074.207054135892, 8257.296883549292, 5188.923423818131, 2675.9661941574714, 2106.951804617498, 4116.496058206161, 10248.560681766961, 8324.399170818433, 4541.692989942013, 8020.726694614456, 9200.633074042584, 4640.075213306948, 10031.916346512498, 8496.352401283013, 2639.187505256499, 4837.3258458063, 2451.7521404901718, 10643.302190061355, 6899.946661039543, 6036.448601577462, 7760.7431485835705, 8454.999213862427, 5738.071209850105, 10354.967463863804, 2059.4403533901564, 5471.878613632324, 8504.263851063562, 2616.828215478642, 2529.3792802633443, 5192.3281494326275, 7029.149765215513, 4480.007000043399, 10200.492161772148, 10257.256490678097, 8327.925005359526, 10094.076163560414, 10780.891647093935, 3195.0997315237705, 10347.91494458684, 3927.7274091962695, 1890.9837545523278, 3613.584259404981, 10283.893461967013, 3601.6060102336505, 9968.686330462937, 9974.139892349574, 9158.671305679818, 10446.572721632272, 3199.8598403228516, 9195.216666853661, 10826.1717604141, 5840.806176444188, 3163.360920068061, 9906.367247436761, 9066.312211802067, 6674.72169825492, 7946.428326202137, 9403.229825045262, 6204.507217701237, 2489.8862464365875, 9088.37199616558, 2904.908340903511, 10530.696168204902, 10753.84927284631, 8234.911139651835, 4366.808861012239, 4609.827389267581, 8504.446282592153, 7939.505869989092, 6694.929889451376, 8959.890928548979, 10302.995659283019, 2422.923058421413, 10321.454367462504, 6187.678370460074, 2309.8091575112853, 6034.665928797172, 10728.721493086809, 8161.703066859009, 2749.277675292765, 4121.718151009585, 7933.413929933537, 4973.29924765674, 2433.778215920479, 7848.947715778385, 6436.921084082904, 9486.03683166849, 5255.812550084438, 4680.515941144255, 6592.468547787426, 9797.61861511695, 6896.899654796954, 4674.170686562117, 2670.265949420664, 7179.807547402127, 3180.2646853480574, 7552.610490077998, 3454.0039383956555, 3165.0169488491074, 9750.069366687632, 9079.769165727095, 5722.213475667473, 8536.037606959198, 5535.91712047116, 6239.580328257679, 6927.662391756874, 5641.007532725051, 6961.7307345273175, 8063.10321987899, 2236.912433277762, 9510.497576214451, 6468.558739550608, 5924.756297784722, 2202.7460770246025, 9988.063079105492, 4479.650316886299, 6513.794554487785, 4119.452014726462, 7891.639878140719, 5963.901422666854, 7360.270632217269, 8782.61212683206, 7724.50686293756, 5093.269390847109, 7882.544264117199, 7092.403732998921, 9610.183250350623, 10806.162845040395, 10479.271146201027, 8962.676336397593, 3211.643741247825, 7724.965918222319, 3130.757400337594, 4770.338739918137, 3930.366146534241, 1004.3357249256396, 5674.23344262024, 9261.528487521753, 6092.682992200664, 1250.4932752542168, 1787.5937395689184, 5619.195991632467, 6593.394182568905, 10491.794691101319, 10854.819447169075, 10490.77856704909, 6084.823474833461, 3235.094323148036, 7616.904487840344, 7716.079284096807, 10043.229452975065, 9998.754721799749, 1846.137458536973, 8523.646777283024, 3462.570720457683, 3411.712687466962, 5642.768968705375, 10227.358315928956, 3216.9209790763334, 5290.767410327423, 4708.095611145603, 8481.050665792183, 1620.0520386888675, 9282.225607187242, 5363.665240882203, 6356.033777064312, 7298.443296561314, 8327.704776628958, 2289.167039191625, 9350.862323965743, 11110.450533862964, 2305.2623837887922, 1926.6331742041248, 5161.798774060697, 5863.030368148062, 2980.9842769796055, 4148.488364113294, 3337.329044718802, 6912.142210221855, 7564.354411552979, 5699.272735432163, 4260.185525375984, 2217.0048538169085, 2371.2555685330526, -170.1079863193563, 7930.884122826824, 5612.504300371842, 5076.840598749619, 7634.145985692798, 9150.212963503962, 9042.577682535577, 2524.7660087158956, 9731.84391027774, 9953.686456708225, 2214.0148851041804, 1426.6598319409663, 2519.189195366595]\n",
            "[ 1711.0268   8569.8618   2020.177    9850.432    6877.9801   4137.5227\n",
            "  2250.8352   1704.70015  3161.454   11394.06555  7325.0482   3594.17085\n",
            "  8023.13545  9288.0267   3353.4703  10594.50155  8277.523    2480.9791\n",
            "  4462.7218   1981.5819  11554.2236   6548.19505  5708.867    7045.499\n",
            "  8978.1851   5757.41345 10928.849    1909.52745  4562.8421   8551.347\n",
            "  2102.2647  11884.04858  4454.40265  5855.9025   4076.497   10796.35025\n",
            " 11353.2276   9748.9106  10577.087   11286.5387   3591.48    11299.343\n",
            "  4561.1885   1674.6323   3227.1211  11253.421    3471.4096  11363.2832\n",
            " 10338.9316   8988.15875 10493.9458   2904.088    8605.3615  11512.405\n",
            "  5312.16985  2396.0959  10807.4863   9222.4026   5693.4305   8347.1643\n",
            " 10214.636    5836.5204   1728.897    8582.3023   3693.428    9991.03765\n",
            " 11085.5868   7623.518    3176.2877   3704.3545   9048.0273   7954.517\n",
            "  6338.0756   9630.397   11289.10925  2261.5688  10791.96     5979.731\n",
            "  2203.73595  5630.45785 11015.1747   7228.21565  2459.7201   3989.841\n",
            "  7727.2532   5124.1887   2200.83085  7153.5539   5227.98875 10982.5013\n",
            "  4529.477    4670.64     6112.35295 11093.6229   6457.8434   4433.9159\n",
            "  2154.361    6496.886    2899.48935  7650.77375  2850.68375  2632.992\n",
            "  9447.3824   8603.8234   5327.40025  8671.19125  4134.08245  5699.8375\n",
            "  6393.60345  4934.705    6198.7518   8733.22925  2055.3249   9964.06\n",
            "  5116.5004   5373.36425  1702.4553  10806.839    3956.07145  5415.6612\n",
            "  4058.1161   7537.1639   4718.20355  6593.5083   8442.667    6858.4796\n",
            "  4795.6568   6640.54485  7162.0122  10594.2257  11938.25595 11345.519\n",
            "  8515.7587   2699.56835  6985.50695  3238.4357   4296.2712   3171.6149\n",
            "  1135.9407   5615.369    9101.798    6059.173    1633.9618   1241.565\n",
            "  4415.1588   6474.013   11436.73815 11305.93455 10197.7722   4544.2348\n",
            "  3277.161    6770.1925   7337.748   10370.91255 10704.47     1880.487\n",
            "  8615.3      3292.52985  3021.80915  4747.0529  10959.33     2741.948\n",
            "  4357.04365  4189.1131   8283.6807   1720.3537   8534.6718   3732.6251\n",
            "  5472.449    7147.4728   7133.9025   1515.3449   9301.89355 11931.12525\n",
            "  1964.78     1708.92575  4340.4409   5261.46945  2710.82855  3208.787\n",
            "  2464.6188   6875.961    6940.90985  4571.41305  4536.259   11272.33139\n",
            "  1731.677    1163.4627   7201.70085  5425.02335  4239.89265  7050.0213\n",
            "  9377.9047  10325.206   10795.93733 11411.685   10600.5483   2205.9808\n",
            "  1629.8335   2007.945  ]\n"
          ],
          "name": "stdout"
        },
        {
          "output_type": "execute_result",
          "data": {
            "text/plain": [
              "[<matplotlib.lines.Line2D at 0x7f7ed4d22f98>]"
            ]
          },
          "metadata": {
            "tags": []
          },
          "execution_count": 78
        },
        {
          "output_type": "display_data",
          "data": {
            "image/png": "[encoded data removed]",
            "text/plain": [
              "<Figure size 432x288 with 1 Axes>"
            ]
          },
          "metadata": {
            "tags": [],
            "needs_background": "light"
          }
        }
      ]
    },
    {
      "cell_type": "code",
      "metadata": {
        "id": "F2jsyiJ-ZlpW"
      },
      "source": [
        ""
      ],
      "execution_count": null,
      "outputs": []
    }
  ]
}